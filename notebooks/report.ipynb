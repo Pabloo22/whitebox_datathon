{
 "cells": [
  {
   "cell_type": "code",
   "execution_count": 1,
   "metadata": {},
   "outputs": [
    {
     "name": "stderr",
     "output_type": "stream",
     "text": [
      "/home/pablo/VSCodeProjects/whitebox_datathon/.venv/lib/python3.11/site-packages/tqdm/auto.py:21: TqdmWarning: IProgress not found. Please update jupyter and ipywidgets. See https://ipywidgets.readthedocs.io/en/stable/user_install.html\n",
      "  from .autonotebook import tqdm as notebook_tqdm\n"
     ]
    }
   ],
   "source": [
    "import pandas as pd\n",
    "from ydata_profiling import ProfileReport\n",
    "from whitebox_datathon.paths import DATA_RAW"
   ]
  },
  {
   "cell_type": "code",
   "execution_count": 2,
   "metadata": {},
   "outputs": [
    {
     "name": "stderr",
     "output_type": "stream",
     "text": [
      "Summarize dataset: 100%|██████████| 24/24 [00:17<00:00,  1.35it/s, Completed]                               \n",
      "Generate report structure: 100%|██████████| 1/1 [00:12<00:00, 12.60s/it]\n",
      "Render HTML: 100%|██████████| 1/1 [00:00<00:00,  2.08it/s]\n",
      "Export report to file: 100%|██████████| 1/1 [00:00<00:00, 114.72it/s]\n"
     ]
    }
   ],
   "source": [
    "train_data = pd.read_csv(DATA_RAW / \"train.csv\")\n",
    "\n",
    "profile = ProfileReport(train_data, title=\"Train Raw\", minimal=True)\n",
    "profile.to_file(\"train_raw.html\")"
   ]
  },
  {
   "cell_type": "code",
   "execution_count": null,
   "metadata": {},
   "outputs": [],
   "source": []
  }
 ],
 "metadata": {
  "kernelspec": {
   "display_name": ".venv",
   "language": "python",
   "name": "python3"
  },
  "language_info": {
   "codemirror_mode": {
    "name": "ipython",
    "version": 3
   },
   "file_extension": ".py",
   "mimetype": "text/x-python",
   "name": "python",
   "nbconvert_exporter": "python",
   "pygments_lexer": "ipython3",
   "version": "3.11.8"
  }
 },
 "nbformat": 4,
 "nbformat_minor": 2
}
